{
 "cells": [
  {
   "cell_type": "code",
   "execution_count": 1,
   "metadata": {},
   "outputs": [],
   "source": [
    "import tkinter as tk\n",
    "from tkinter import ttk"
   ]
  },
  {
   "cell_type": "code",
   "execution_count": 2,
   "metadata": {},
   "outputs": [
    {
     "data": {
      "text/plain": [
       "''"
      ]
     },
     "execution_count": 2,
     "metadata": {},
     "output_type": "execute_result"
    }
   ],
   "source": [
    "# Initialise GUI window\n",
    "UI = tk.Tk()\n",
    "UI.geometry(\"480x480\")"
   ]
  },
  {
   "cell_type": "code",
   "execution_count": 3,
   "metadata": {},
   "outputs": [],
   "source": [
    "from tkinter import filedialog\n",
    "global contents\n",
    "def fileOpen():\n",
    "    print(\"File Open Events:\")\n",
    "    file_path = filedialog.askopenfilename()\n",
    "    # print(file_path)\n",
    "    inFile = open(file_path, \"r\")\n",
    "    contents = inFile.read()\n",
    "    # print(contents)\n",
    "    \n",
    "    ###\n",
    "    textBox.insert(1.0,contents)\n",
    "    \n",
    "def fileSave():\n",
    "    print(\"File Save Events:\")\n",
    "    \n",
    "    ###\n",
    "    outputText = textBox.get(1.0,tk.END)\n",
    "    \n",
    "    # print(outputText)\n",
    "    file_path = filedialog.askopenfilename()\n",
    "    # print(file_path)\n",
    "    outFile = open(file_path,\"w\")\n",
    "    outFile.write(outputText)\n",
    "    print(\"File Save End\")\n",
    "    "
   ]
  },
  {
   "cell_type": "code",
   "execution_count": 4,
   "metadata": {},
   "outputs": [],
   "source": [
    "# Build Menu\n",
    "fileBox = tk.Menu(UI)\n",
    "UI.config( menu = fileBox )\n",
    "\n",
    "# tearoff = 0: remove dotted line\n",
    "subMenu = tk.Menu(fileBox,tearoff=0)\n",
    "subMenu.add_command(label=\"Open\", command = fileOpen)\n",
    "subMenu.add_command(label=\"Save\", command = fileSave)\n",
    "\n",
    "fileBox.add_cascade(label=\"File\",menu=subMenu)"
   ]
  },
  {
   "cell_type": "code",
   "execution_count": 5,
   "metadata": {},
   "outputs": [],
   "source": [
    "# Extra: make a toolbar (Save,Open)\n",
    "from PIL import Image,ImageTk\n",
    "img1 = Image.open(\"Abyss_KnightIcon.png\")\n",
    "img2 = Image.open(\"Dragon_KnightIcon.png\")\n",
    "\n",
    "toolbar = tk.Frame(UI,bd=1,relief=\"raised\")\n",
    "openImg = ImageTk.PhotoImage(img1)\n",
    "saveImg = ImageTk.PhotoImage(img2)\n",
    "\n",
    "openButton = tk.Button(toolbar, image=openImg, relief=\"flat\", command=fileOpen)\n",
    "saveButton = tk.Button(toolbar, image=saveImg, relief=\"flat\", command=fileSave)\n",
    "openButton.pack(side=\"left\",padx=2,pady=1)\n",
    "saveButton.pack(side=\"left\",padx=2,pady=1)\n",
    "\n",
    "\n",
    "toolbar.pack(side=\"top\",fill=\"x\")\n"
   ]
  },
  {
   "cell_type": "code",
   "execution_count": 6,
   "metadata": {},
   "outputs": [],
   "source": [
    "import tkinter.scrolledtext as st\n",
    "# textBox = st.ScrolledText(UI,undo=True)\n",
    "\n",
    "## 排係toolbar下面\n",
    "textFrame = tk.Frame(UI,bd=1)\n",
    "\n",
    "textBox = st.ScrolledText(textFrame,undo=True)\n",
    "textBox['font'] = ('consolas','12')\n",
    "textBox.pack(expand=True,fill='both')\n",
    "\n",
    "# 如果唔用frame裝住，單純pack textBox，會將toolbar遮住\n",
    "# original code: \n",
    "# textBox = st.ScrolledText(UI,undo=True)\n",
    "# see that? parent係UI，其他不理\n",
    "textFrame.pack(side=\"top\",fill=\"both\")"
   ]
  },
  {
   "cell_type": "code",
   "execution_count": 7,
   "metadata": {},
   "outputs": [
    {
     "name": "stdout",
     "output_type": "stream",
     "text": [
      "File Open Events:\n"
     ]
    },
    {
     "name": "stderr",
     "output_type": "stream",
     "text": [
      "Exception in Tkinter callback\n",
      "Traceback (most recent call last):\n",
      "  File \"C:\\Users\\Tom\\anaconda3\\lib\\tkinter\\__init__.py\", line 1705, in __call__\n",
      "    return self.func(*args)\n",
      "  File \"<ipython-input-3-4cf8e6aaa125>\", line 7, in fileOpen\n",
      "    inFile = open(file_path, \"r\")\n",
      "FileNotFoundError: [Errno 2] No such file or directory: ''\n"
     ]
    },
    {
     "name": "stdout",
     "output_type": "stream",
     "text": [
      "Bye\n"
     ]
    }
   ],
   "source": [
    "UI.mainloop()\n",
    "# *after mainloop(), UI will be destroyed\n",
    "# so if you want to run again, you must include UI=tk.Tk() \n",
    "# i.e. regenerate the GUI\n",
    "\n",
    "print(\"Bye\")"
   ]
  },
  {
   "cell_type": "code",
   "execution_count": 8,
   "metadata": {},
   "outputs": [],
   "source": [
    "# References:\n",
    "# tkinter選單(Menu)\n",
    "# https://jennaweng0621.pixnet.net/blog/post/403560656-%5Bpython%5D-tkinter-%E9%81%B8%E5%96%AE%E6%AC%84%28menu%29\n",
    "\n",
    "# Menus & Toolbar in tkinter\n",
    "# http://zetcode.com/tkinter/menustoolbars/\n",
    "\n",
    "# Used Objects:\n",
    "# Tk,Frame,Menu,Button,ScrolledText\n"
   ]
  }
 ],
 "metadata": {
  "kernelspec": {
   "display_name": "Python 3",
   "language": "python",
   "name": "python3"
  },
  "language_info": {
   "codemirror_mode": {
    "name": "ipython",
    "version": 3
   },
   "file_extension": ".py",
   "mimetype": "text/x-python",
   "name": "python",
   "nbconvert_exporter": "python",
   "pygments_lexer": "ipython3",
   "version": "3.7.6"
  }
 },
 "nbformat": 4,
 "nbformat_minor": 4
}
